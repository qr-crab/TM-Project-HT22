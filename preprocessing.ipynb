{
 "cells": [
  {
   "cell_type": "code",
   "execution_count": 14,
   "metadata": {},
   "outputs": [],
   "source": [
    "import pandas as pd\n",
    "import numpy as np\n",
    "import re"
   ]
  },
  {
   "attachments": {},
   "cell_type": "markdown",
   "metadata": {},
   "source": [
    "# Merge the review data"
   ]
  },
  {
   "cell_type": "code",
   "execution_count": 15,
   "metadata": {},
   "outputs": [],
   "source": [
    "# Import the dataset\n",
    "pos = pd.read_csv(\"er-pos.csv\")\n",
    "neg = pd.read_csv(\"er-neg.csv\")"
   ]
  },
  {
   "cell_type": "code",
   "execution_count": 4,
   "metadata": {},
   "outputs": [],
   "source": [
    "# Drop NA reviews\n",
    "pos.dropna(inplace=True)\n",
    "neg.dropna(inplace=True)"
   ]
  },
  {
   "cell_type": "code",
   "execution_count": 5,
   "metadata": {},
   "outputs": [],
   "source": [
    "# Reshuffle rows\n",
    "pos = pos.sample(frac=1, random_state=19991222)\n",
    "neg = neg.sample(frac=1, random_state=19991222)"
   ]
  },
  {
   "cell_type": "code",
   "execution_count": 6,
   "metadata": {},
   "outputs": [],
   "source": [
    "# Concatenate\n",
    "df = pd.concat([pos, neg])"
   ]
  },
  {
   "cell_type": "code",
   "execution_count": 7,
   "metadata": {},
   "outputs": [],
   "source": [
    "# Change from boolean to int\n",
    "df[\"voted_up\"] = [1 if boolean else 0 for boolean in df.voted_up.tolist()]\n",
    "df[\"received_for_free\"] = [1 if boolean else 0 for boolean in df.received_for_free.tolist()]"
   ]
  },
  {
   "attachments": {},
   "cell_type": "markdown",
   "metadata": {},
   "source": [
    "# Text preprocessing"
   ]
  },
  {
   "cell_type": "code",
   "execution_count": 8,
   "metadata": {},
   "outputs": [],
   "source": [
    "# Drops anything that is not alphanumeric or an ASCII character.\n",
    "def drop_strange_symbols(string):\n",
    "    return ''.join([i for i in string if i.isalnum() or ord(i)<128])\n",
    "\n",
    "# Remove strange characters, links, formatting tags and line breaks. \n",
    "def clean_reviews(text):\n",
    "    text = drop_strange_symbols(text)\n",
    "    text = re.sub(r'\\n', ' ', text) # remove line breaks\n",
    "    text = re.sub(r'\\[[^\\[\\]]*\\]', '', text) # remove [b]format tags[\\b]\n",
    "    text = re.sub(r'https?:\\/\\/.*[\\r\\n]*', '', text, flags=re.MULTILINE) # remove links\n",
    "    text = re.sub(r' +', ' ', text) # remove extra spaces\n",
    "    return text\n",
    "\n",
    "df[\"clean\"] = df[\"review\"].apply(lambda x : clean_reviews(x))\n",
    "\n",
    "# Remove reviews that don't contain any letters/numbers at all.\n",
    "def only_symbols(string):\n",
    "    return all([not i.isalnum() for i in string])\n",
    "\n",
    "df = df[[not only_symbols(i) for i in df.review]]\n",
    "\n",
    "# Drop reviews with fewer than 3 characters\n",
    "df = df[[len(text) >= 3 for text in df.clean]]\n",
    "\n",
    "# Reset index\n",
    "df.reset_index(inplace=True, drop=True)"
   ]
  },
  {
   "cell_type": "code",
   "execution_count": 9,
   "metadata": {},
   "outputs": [
    {
     "data": {
      "text/html": [
       "<div>\n",
       "<style scoped>\n",
       "    .dataframe tbody tr th:only-of-type {\n",
       "        vertical-align: middle;\n",
       "    }\n",
       "\n",
       "    .dataframe tbody tr th {\n",
       "        vertical-align: top;\n",
       "    }\n",
       "\n",
       "    .dataframe thead th {\n",
       "        text-align: right;\n",
       "    }\n",
       "</style>\n",
       "<table border=\"1\" class=\"dataframe\">\n",
       "  <thead>\n",
       "    <tr style=\"text-align: right;\">\n",
       "      <th></th>\n",
       "      <th>review</th>\n",
       "      <th>voted_up</th>\n",
       "      <th>received_for_free</th>\n",
       "      <th>clean</th>\n",
       "    </tr>\n",
       "  </thead>\n",
       "  <tbody>\n",
       "    <tr>\n",
       "      <th>24081</th>\n",
       "      <td>fantastic game \\n10/10 story and It's difficult</td>\n",
       "      <td>1</td>\n",
       "      <td>0</td>\n",
       "      <td>fantastic game 10/10 story and It's difficult</td>\n",
       "    </tr>\n",
       "    <tr>\n",
       "      <th>43132</th>\n",
       "      <td>It has been a whole week and the game still wo...</td>\n",
       "      <td>0</td>\n",
       "      <td>0</td>\n",
       "      <td>It has been a whole week and the game still wo...</td>\n",
       "    </tr>\n",
       "    <tr>\n",
       "      <th>11528</th>\n",
       "      <td>Game is extremely engaging. Love to struggle t...</td>\n",
       "      <td>1</td>\n",
       "      <td>0</td>\n",
       "      <td>Game is extremely engaging. Love to struggle t...</td>\n",
       "    </tr>\n",
       "    <tr>\n",
       "      <th>44220</th>\n",
       "      <td>Game runs poorly. I have a good PC. Even if I ...</td>\n",
       "      <td>0</td>\n",
       "      <td>0</td>\n",
       "      <td>Game runs poorly. I have a good PC. Even if I ...</td>\n",
       "    </tr>\n",
       "    <tr>\n",
       "      <th>30255</th>\n",
       "      <td>Non existent story.</td>\n",
       "      <td>0</td>\n",
       "      <td>0</td>\n",
       "      <td>Non existent story.</td>\n",
       "    </tr>\n",
       "    <tr>\n",
       "      <th>14752</th>\n",
       "      <td>The PvP scene is the most respectful, respecta...</td>\n",
       "      <td>1</td>\n",
       "      <td>0</td>\n",
       "      <td>The PvP scene is the most respectful, respecta...</td>\n",
       "    </tr>\n",
       "    <tr>\n",
       "      <th>7017</th>\n",
       "      <td>L + You're Tarnished</td>\n",
       "      <td>1</td>\n",
       "      <td>0</td>\n",
       "      <td>L + You're Tarnished</td>\n",
       "    </tr>\n",
       "    <tr>\n",
       "      <th>12049</th>\n",
       "      <td>Highly addicting and frustrating, at least unt...</td>\n",
       "      <td>1</td>\n",
       "      <td>0</td>\n",
       "      <td>Highly addicting and frustrating, at least unt...</td>\n",
       "    </tr>\n",
       "    <tr>\n",
       "      <th>7326</th>\n",
       "      <td>delicious like moms home cooked spaghetti</td>\n",
       "      <td>1</td>\n",
       "      <td>0</td>\n",
       "      <td>delicious like moms home cooked spaghetti</td>\n",
       "    </tr>\n",
       "    <tr>\n",
       "      <th>11348</th>\n",
       "      <td>Best single player game of all time no argument</td>\n",
       "      <td>1</td>\n",
       "      <td>0</td>\n",
       "      <td>Best single player game of all time no argument</td>\n",
       "    </tr>\n",
       "  </tbody>\n",
       "</table>\n",
       "</div>"
      ],
      "text/plain": [
       "                                                  review  voted_up  \\\n",
       "24081    fantastic game \\n10/10 story and It's difficult         1   \n",
       "43132  It has been a whole week and the game still wo...         0   \n",
       "11528  Game is extremely engaging. Love to struggle t...         1   \n",
       "44220  Game runs poorly. I have a good PC. Even if I ...         0   \n",
       "30255                                Non existent story.         0   \n",
       "14752  The PvP scene is the most respectful, respecta...         1   \n",
       "7017                                L + You're Tarnished         1   \n",
       "12049  Highly addicting and frustrating, at least unt...         1   \n",
       "7326           delicious like moms home cooked spaghetti         1   \n",
       "11348    Best single player game of all time no argument         1   \n",
       "\n",
       "       received_for_free                                              clean  \n",
       "24081                  0      fantastic game 10/10 story and It's difficult  \n",
       "43132                  0  It has been a whole week and the game still wo...  \n",
       "11528                  0  Game is extremely engaging. Love to struggle t...  \n",
       "44220                  0  Game runs poorly. I have a good PC. Even if I ...  \n",
       "30255                  0                                Non existent story.  \n",
       "14752                  0  The PvP scene is the most respectful, respecta...  \n",
       "7017                   0                               L + You're Tarnished  \n",
       "12049                  0  Highly addicting and frustrating, at least unt...  \n",
       "7326                   0          delicious like moms home cooked spaghetti  \n",
       "11348                  0    Best single player game of all time no argument  "
      ]
     },
     "execution_count": 9,
     "metadata": {},
     "output_type": "execute_result"
    }
   ],
   "source": [
    "df.sample(10)"
   ]
  },
  {
   "cell_type": "code",
   "execution_count": 10,
   "metadata": {},
   "outputs": [
    {
     "data": {
      "text/plain": [
       "(49374, 4)"
      ]
     },
     "execution_count": 10,
     "metadata": {},
     "output_type": "execute_result"
    }
   ],
   "source": [
    "df.shape"
   ]
  },
  {
   "cell_type": "code",
   "execution_count": 11,
   "metadata": {},
   "outputs": [
    {
     "data": {
      "text/plain": [
       "0    24725\n",
       "1    24649\n",
       "Name: voted_up, dtype: int64"
      ]
     },
     "execution_count": 11,
     "metadata": {},
     "output_type": "execute_result"
    }
   ],
   "source": [
    "df.voted_up.value_counts()"
   ]
  },
  {
   "cell_type": "code",
   "execution_count": 12,
   "metadata": {},
   "outputs": [
    {
     "data": {
      "text/plain": [
       "0    48614\n",
       "1      760\n",
       "Name: received_for_free, dtype: int64"
      ]
     },
     "execution_count": 12,
     "metadata": {},
     "output_type": "execute_result"
    }
   ],
   "source": [
    "df.received_for_free.value_counts()"
   ]
  },
  {
   "cell_type": "code",
   "execution_count": 13,
   "metadata": {},
   "outputs": [
    {
     "data": {
      "text/plain": [
       "count    49374.000000\n",
       "mean       407.818265\n",
       "std        891.780362\n",
       "min          3.000000\n",
       "25%         29.000000\n",
       "50%        104.000000\n",
       "75%        383.000000\n",
       "max       8000.000000\n",
       "Name: review, dtype: float64"
      ]
     },
     "execution_count": 13,
     "metadata": {},
     "output_type": "execute_result"
    }
   ],
   "source": [
    "df.review.apply(lambda x: len(x)).describe()"
   ]
  },
  {
   "attachments": {},
   "cell_type": "markdown",
   "metadata": {},
   "source": [
    "# Saving changes"
   ]
  },
  {
   "cell_type": "code",
   "execution_count": 12,
   "metadata": {},
   "outputs": [
    {
     "name": "stderr",
     "output_type": "stream",
     "text": [
      "C:\\Users\\luraza\\AppData\\Local\\Temp\\ipykernel_76316\\1054563579.py:2: SettingWithCopyWarning: \n",
      "A value is trying to be set on a copy of a slice from a DataFrame\n",
      "\n",
      "See the caveats in the documentation: https://pandas.pydata.org/pandas-docs/stable/user_guide/indexing.html#returning-a-view-versus-a-copy\n",
      "  final.rename(columns={\"clean\": \"review\"}, inplace=True)\n"
     ]
    }
   ],
   "source": [
    "final = df[[\"clean\", \"voted_up\"]]\n",
    "final.rename(columns={\"clean\": \"review\"}, inplace=True)"
   ]
  },
  {
   "cell_type": "code",
   "execution_count": 13,
   "metadata": {},
   "outputs": [
    {
     "data": {
      "text/html": [
       "<div>\n",
       "<style scoped>\n",
       "    .dataframe tbody tr th:only-of-type {\n",
       "        vertical-align: middle;\n",
       "    }\n",
       "\n",
       "    .dataframe tbody tr th {\n",
       "        vertical-align: top;\n",
       "    }\n",
       "\n",
       "    .dataframe thead th {\n",
       "        text-align: right;\n",
       "    }\n",
       "</style>\n",
       "<table border=\"1\" class=\"dataframe\">\n",
       "  <thead>\n",
       "    <tr style=\"text-align: right;\">\n",
       "      <th></th>\n",
       "      <th>review</th>\n",
       "      <th>voted_up</th>\n",
       "    </tr>\n",
       "  </thead>\n",
       "  <tbody>\n",
       "    <tr>\n",
       "      <th>42247</th>\n",
       "      <td>You would think that with the recommended hard...</td>\n",
       "      <td>0</td>\n",
       "    </tr>\n",
       "    <tr>\n",
       "      <th>36623</th>\n",
       "      <td>squid games</td>\n",
       "      <td>0</td>\n",
       "    </tr>\n",
       "    <tr>\n",
       "      <th>574</th>\n",
       "      <td>Turns out fromsoft make good games, who knew?</td>\n",
       "      <td>1</td>\n",
       "    </tr>\n",
       "    <tr>\n",
       "      <th>16945</th>\n",
       "      <td>Amazing. Worth every penny.</td>\n",
       "      <td>1</td>\n",
       "    </tr>\n",
       "    <tr>\n",
       "      <th>27265</th>\n",
       "      <td>THE GAME SUCKS. pC GAME WITH pS CONTROLS. tHE ...</td>\n",
       "      <td>0</td>\n",
       "    </tr>\n",
       "    <tr>\n",
       "      <th>14179</th>\n",
       "      <td>Secret dung eater sex scene makes it worth the...</td>\n",
       "      <td>1</td>\n",
       "    </tr>\n",
       "    <tr>\n",
       "      <th>23649</th>\n",
       "      <td>A true Masterpiece. The best game From Softwar...</td>\n",
       "      <td>1</td>\n",
       "    </tr>\n",
       "    <tr>\n",
       "      <th>37209</th>\n",
       "      <td>This is a masterpiece and will be Game of the ...</td>\n",
       "      <td>0</td>\n",
       "    </tr>\n",
       "    <tr>\n",
       "      <th>8054</th>\n",
       "      <td>very engaging, difficult but fun</td>\n",
       "      <td>1</td>\n",
       "    </tr>\n",
       "    <tr>\n",
       "      <th>16359</th>\n",
       "      <td>Elden Ring has saved gaming.</td>\n",
       "      <td>1</td>\n",
       "    </tr>\n",
       "  </tbody>\n",
       "</table>\n",
       "</div>"
      ],
      "text/plain": [
       "                                                  review  voted_up\n",
       "42247  You would think that with the recommended hard...         0\n",
       "36623                                        squid games         0\n",
       "574        Turns out fromsoft make good games, who knew?         1\n",
       "16945                        Amazing. Worth every penny.         1\n",
       "27265  THE GAME SUCKS. pC GAME WITH pS CONTROLS. tHE ...         0\n",
       "14179  Secret dung eater sex scene makes it worth the...         1\n",
       "23649  A true Masterpiece. The best game From Softwar...         1\n",
       "37209  This is a masterpiece and will be Game of the ...         0\n",
       "8054                    very engaging, difficult but fun         1\n",
       "16359                       Elden Ring has saved gaming.         1"
      ]
     },
     "execution_count": 13,
     "metadata": {},
     "output_type": "execute_result"
    }
   ],
   "source": [
    "final.sample(10)"
   ]
  },
  {
   "cell_type": "code",
   "execution_count": 14,
   "metadata": {},
   "outputs": [],
   "source": [
    "final.to_csv(\"er-reviews.csv\", index=False)"
   ]
  }
 ],
 "metadata": {
  "kernelspec": {
   "display_name": "Python 3",
   "language": "python",
   "name": "python3"
  },
  "language_info": {
   "codemirror_mode": {
    "name": "ipython",
    "version": 3
   },
   "file_extension": ".py",
   "mimetype": "text/x-python",
   "name": "python",
   "nbconvert_exporter": "python",
   "pygments_lexer": "ipython3",
   "version": "3.10.7"
  },
  "orig_nbformat": 4,
  "vscode": {
   "interpreter": {
    "hash": "857cdad76657927eb74ed29a786dd3d054a24015882f359a4354133a429953a1"
   }
  }
 },
 "nbformat": 4,
 "nbformat_minor": 2
}
