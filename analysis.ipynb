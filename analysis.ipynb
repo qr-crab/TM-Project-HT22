{
 "cells": [
  {
   "cell_type": "code",
   "execution_count": 1,
   "metadata": {},
   "outputs": [
    {
     "name": "stderr",
     "output_type": "stream",
     "text": [
      "c:\\Users\\luraza\\AppData\\Local\\Programs\\Python\\Python310\\lib\\site-packages\\tqdm\\auto.py:22: TqdmWarning: IProgress not found. Please update jupyter and ipywidgets. See https://ipywidgets.readthedocs.io/en/stable/user_install.html\n",
      "  from .autonotebook import tqdm as notebook_tqdm\n"
     ]
    }
   ],
   "source": [
    "import pandas as pd, numpy as np, matplotlib.pyplot as plt\n",
    "from top2vec import Top2Vec\n",
    "from project_functions import *"
   ]
  },
  {
   "attachments": {},
   "cell_type": "markdown",
   "metadata": {},
   "source": [
    "# Load the model"
   ]
  },
  {
   "cell_type": "code",
   "execution_count": 2,
   "metadata": {},
   "outputs": [],
   "source": [
    "model = Top2Vec.load(\"multlingual-ngram-10-500-150-0-100\")"
   ]
  },
  {
   "cell_type": "code",
   "execution_count": 3,
   "metadata": {},
   "outputs": [
    {
     "data": {
      "text/plain": [
       "'universal-sentence-encoder-multilingual-large'"
      ]
     },
     "execution_count": 3,
     "metadata": {},
     "output_type": "execute_result"
    }
   ],
   "source": [
    "model.embedding_model"
   ]
  },
  {
   "attachments": {},
   "cell_type": "markdown",
   "metadata": {},
   "source": [
    "## Evaluation"
   ]
  },
  {
   "attachments": {},
   "cell_type": "markdown",
   "metadata": {},
   "source": [
    "### Number of topics"
   ]
  },
  {
   "cell_type": "code",
   "execution_count": 4,
   "metadata": {},
   "outputs": [
    {
     "data": {
      "text/plain": [
       "38"
      ]
     },
     "execution_count": 4,
     "metadata": {},
     "output_type": "execute_result"
    }
   ],
   "source": [
    "model.get_num_topics()"
   ]
  },
  {
   "attachments": {},
   "cell_type": "markdown",
   "metadata": {},
   "source": [
    "### Topic sizes"
   ]
  },
  {
   "cell_type": "code",
   "execution_count": 5,
   "metadata": {},
   "outputs": [
    {
     "data": {
      "text/plain": [
       "(array([11514,  9197,  7679,  2232,  1736,  1395,  1323,  1008,   965,\n",
       "          781,   780,   733,   699,   691,   663,   629,   559,   547,\n",
       "          533,   493,   490,   457,   448,   427,   398,   353,   318,\n",
       "          295,   285,   271,   256,   245,   230,   209,   149,   132,\n",
       "          129,   125], dtype=int64),\n",
       " array([ 0,  1,  2,  3,  4,  5,  6,  7,  8,  9, 10, 11, 12, 13, 14, 15, 16,\n",
       "        17, 18, 19, 20, 21, 22, 23, 24, 25, 26, 27, 28, 29, 30, 31, 32, 33,\n",
       "        34, 35, 36, 37], dtype=int64))"
      ]
     },
     "execution_count": 5,
     "metadata": {},
     "output_type": "execute_result"
    }
   ],
   "source": [
    "model.get_topic_sizes()"
   ]
  },
  {
   "cell_type": "code",
   "execution_count": 6,
   "metadata": {},
   "outputs": [
    {
     "data": {
      "text/plain": [
       "<AxesSubplot: ylabel='Frequency'>"
      ]
     },
     "execution_count": 6,
     "metadata": {},
     "output_type": "execute_result"
    },
    {
     "data": {
      "image/png": "[encoded data removed]",
      "text/plain": [
       "<Figure size 640x480 with 1 Axes>"
      ]
     },
     "metadata": {},
     "output_type": "display_data"
    }
   ],
   "source": [
    "pd.Series(model.get_topic_sizes()[0]).plot(kind=\"hist\", bins=50)"
   ]
  },
  {
   "cell_type": "code",
   "execution_count": 7,
   "metadata": {},
   "outputs": [
    {
     "data": {
      "text/plain": [
       "count       38.000000\n",
       "mean      1299.315789\n",
       "std       2504.365940\n",
       "min        125.000000\n",
       "25%        287.500000\n",
       "50%        513.000000\n",
       "75%        780.750000\n",
       "max      11514.000000\n",
       "dtype: float64"
      ]
     },
     "execution_count": 7,
     "metadata": {},
     "output_type": "execute_result"
    }
   ],
   "source": [
    "pd.Series(model.get_topic_sizes()[0]).describe()"
   ]
  },
  {
   "attachments": {},
   "cell_type": "markdown",
   "metadata": {},
   "source": [
    "### Topic words and scores"
   ]
  },
  {
   "cell_type": "code",
   "execution_count": 8,
   "metadata": {},
   "outputs": [
    {
     "name": "stdout",
     "output_type": "stream",
     "text": [
      "Topic 0\n",
      "['dark souls' 'soulsborne' 'darksouls' 'bloodborne' 'soulsbourne']\n",
      "\n",
      "Topic 1\n",
      "['fps' 'gameplay' 'unplayable' 'vsync' 'laggy']\n",
      "\n",
      "Topic 2\n",
      "['ever played' 'gameplay' 'git gud' 'game' 'juego']\n",
      "\n",
      "Topic 3\n",
      "['botw' 'meh' 'foe' 'shit' 'ck']\n",
      "\n",
      "Topic 4\n",
      "['good' 'gud' 'excellent' 'decent' 'well']\n",
      "\n",
      "Topic 5\n",
      "['multiplayer' 'coop' 'singleplayer' 'matchmaking' 'mmo']\n",
      "\n",
      "Topic 6\n",
      "['dying' 'dies' 'dead' 'death' 'died']\n",
      "\n",
      "Topic 7\n",
      "['elden ring' 'eldenring' 'ring' 'rings' 'elden']\n",
      "\n",
      "Topic 8\n",
      "['ultrawide support' 'ultrawide' 'vsync' 'fps' 'widescreen']\n",
      "\n",
      "Topic 9\n",
      "['game' 'juego' 'jogo' 'games' 'gameplay']\n",
      "\n",
      "Topic 10\n",
      "['refunded' 'refunding' 'refund' 'returned' 'returning']\n",
      "\n",
      "Topic 11\n",
      "['good' 'game' 'gud' 'juego' 'excellent']\n",
      "\n",
      "Topic 12\n",
      "['invisible' 'unplayable' 'glitches' 'enemies' 'glitch']\n",
      "\n",
      "Topic 13\n",
      "['fun' 'enjoyable' 'enjoying' 'enjoyment' 'entertaining']\n",
      "\n",
      "Topic 14\n",
      "['game' 'gameplay' 'juego' 'jogo' 'great']\n",
      "\n",
      "Topic 15\n",
      "['review' 'reviews' 'criticism' 'comments' 'reviewers']\n",
      "\n",
      "Topic 16\n",
      "['finger' 'hole' 'fingers' 'try' 'screw']\n",
      "\n",
      "Topic 17\n",
      "['difficult' 'hardest' 'easy' 'easily' 'hard']\n",
      "\n",
      "Topic 18\n",
      "['maidens' 'maiden' 'maidenless' 'nor' 'not']\n",
      "\n",
      "Topic 19\n",
      "['yes' 'yea' 'yeah' 'yep' 'ya']\n",
      "\n",
      "Topic 20\n",
      "['malenia fuck' 'fuck malenia' 'melina' 'malenia blade' 'malenia']\n",
      "\n",
      "Topic 21\n",
      "['masterpiece' 'magnificent' 'superb' 'fantastic' 'outstanding']\n",
      "\n",
      "Topic 22\n",
      "['greatsword' 'sword' 'katana' 'swords' 'katanas']\n",
      "\n",
      "Topic 23\n",
      "['pvp' 'pve' 'git gud' 'nerfed' 'mmo']\n",
      "\n",
      "Topic 24\n",
      "['elden ring' 'eldenring' 'ring' 'rings' 'elden']\n",
      "\n",
      "Topic 25\n",
      "['eh' 'se' 'ah' 'oh' 'th']\n",
      "\n",
      "Topic 26\n",
      "['buy' 'purchase' 'buying' 'bought' 'purchasing']\n",
      "\n",
      "Topic 27\n",
      "['dog' 'dogs' 'bloodhound' 'cat' 'sheep']\n",
      "\n",
      "Topic 28\n",
      "['year' 'game' 'juego' 'jogo' 'games']\n",
      "\n",
      "Topic 29\n",
      "['hug' 'arms' 'woman' 'lady' 'women']\n",
      "\n",
      "Topic 30\n",
      "['goty' 'gael' 'gank' 'wary' 'godskin']\n",
      "\n",
      "Topic 31\n",
      "['miyazaki' 'waifu' 'samurai' 'japanese' 'anime']\n",
      "\n",
      "Topic 32\n",
      "['hole' 'finger' 'fingers' 'thumbs' 'screw']\n",
      "\n",
      "Topic 33\n",
      "['dog' 'dogs' 'cat' 'bloodhound' 'human']\n",
      "\n",
      "Topic 34\n",
      "['mid' 'middle' 'medium' 'half' 'halfway']\n",
      "\n",
      "Topic 35\n",
      "['night' 'fort' 'dark' 'strong' 'stronger']\n",
      "\n",
      "Topic 36\n",
      "['right' 'correctly' 'left' 'wrong' 'fair']\n",
      "\n",
      "Topic 37\n",
      "['clinton' 'bill' 'pope' 'dollars' 'dollar']\n",
      "\n"
     ]
    }
   ],
   "source": [
    "topic_words, topic_scores, topic_nums = model.get_topics(reduced=False)\n",
    "for words, scores, num in zip(topic_words, topic_scores, topic_nums):\n",
    "    print(f\"Topic {num}\\n{words[:5]}\\n\")"
   ]
  },
  {
   "attachments": {},
   "cell_type": "markdown",
   "metadata": {},
   "source": [
    "### Sanity check: Representative documents per topic"
   ]
  },
  {
   "cell_type": "code",
   "execution_count": 9,
   "metadata": {},
   "outputs": [
    {
     "name": "stdout",
     "output_type": "stream",
     "text": [
      "Document: 27788, Score: 0.9722\n",
      "-----------------------------\n",
      "MId\n",
      "\n",
      "Document: 27597, Score: 0.9722\n",
      "-----------------------------\n",
      "mid\n",
      "\n",
      "Document: 33561, Score: 0.9722\n",
      "-----------------------------\n",
      "mid\n",
      "\n",
      "Document: 43820, Score: 0.9722\n",
      "-----------------------------\n",
      "Mid\n",
      "\n",
      "Document: 31549, Score: 0.9722\n",
      "-----------------------------\n",
      "Mid\n",
      "\n"
     ]
    }
   ],
   "source": [
    "topic_num = 34\n",
    "num_docs = 5\n",
    "\n",
    "documents, document_scores, document_ids = model.search_documents_by_topic(topic_num, num_docs)\n",
    "for doc, score, id in zip(documents, document_scores, document_ids):\n",
    "    print(f\"Document: {id}, Score: {score:.4f}\")\n",
    "    print(\"-----------------------------\")\n",
    "    print(doc + \"\\n\")"
   ]
  },
  {
   "attachments": {},
   "cell_type": "markdown",
   "metadata": {},
   "source": [
    "### Sanity check: search documents by keyword"
   ]
  },
  {
   "cell_type": "code",
   "execution_count": 10,
   "metadata": {},
   "outputs": [
    {
     "name": "stdout",
     "output_type": "stream",
     "text": [
      "Topic: 22, Score: 0.7009\n",
      "['greatsword' 'sword' 'katana' 'swords' 'katanas' 'blade' 'knife'\n",
      " 'samurai' 'malenia blade' 'weapon']\n",
      "\n",
      "Topic: 3, Score: 0.5237\n",
      "['botw' 'meh' 'foe' 'shit' 'ck' 'blah' 'bruh' 'fucking' 'sh' 'heck']\n",
      "\n",
      "Topic: 25, Score: 0.3983\n",
      "['eh' 'se' 'ah' 'oh' 'th' 'af' 'ai' 'tho' 'he' 'er']\n",
      "\n"
     ]
    }
   ],
   "source": [
    "num_topics = 3\n",
    "topic_words, word_scores, topic_scores, topic_nums = model.search_topics(keywords=[\"katana\"], num_topics=num_topics)\n",
    "for tWords, wScores, tScores, tNums in zip(topic_words, word_scores, topic_scores, topic_nums):\n",
    "    print(\"Topic: {topic}, Score: {similarity:.4f}\\n{words}\\n\".format(topic=tNums, similarity=tScores, words=tWords[:10]))"
   ]
  },
  {
   "attachments": {},
   "cell_type": "markdown",
   "metadata": {},
   "source": [
    "## Reducing the number of topics"
   ]
  },
  {
   "cell_type": "code",
   "execution_count": 11,
   "metadata": {},
   "outputs": [],
   "source": [
    "topic_mapping = model.hierarchical_topic_reduction(num_topics=20)"
   ]
  },
  {
   "cell_type": "code",
   "execution_count": 12,
   "metadata": {},
   "outputs": [],
   "source": [
    "reduced = True"
   ]
  },
  {
   "cell_type": "code",
   "execution_count": 13,
   "metadata": {},
   "outputs": [
    {
     "name": "stdout",
     "output_type": "stream",
     "text": [
      "Topic 0\n",
      "['dark souls' 'soulsborne' 'darksouls' 'bloodborne' 'soulsbourne']\n",
      "\n",
      "Topic 1\n",
      "['fps' 'gameplay' 'unplayable' 'vsync' 'laggy']\n",
      "\n",
      "Topic 2\n",
      "['ever played' 'gameplay' 'git gud' 'game' 'juego']\n",
      "\n",
      "Topic 3\n",
      "['meh' 'blah' 'botw' 'eh' 'heck']\n",
      "\n",
      "Topic 4\n",
      "['malenia fuck' 'fuck malenia' 'malenia blade' 'meh' 'greatsword']\n",
      "\n",
      "Topic 5\n",
      "['good' 'gud' 'excellent' 'decent' 'nice']\n",
      "\n",
      "Topic 6\n",
      "['multiplayer' 'mmo' 'git gud' 'matchmaking' 'singleplayer']\n",
      "\n",
      "Topic 7\n",
      "['elden ring' 'eldenring' 'ring' 'rings' 'elden']\n",
      "\n",
      "Topic 8\n",
      "['dying' 'dies' 'dead' 'died' 'death']\n",
      "\n",
      "Topic 9\n",
      "['refunded' 'refund' 'refunding' 'replayable' 'unplayable']\n",
      "\n",
      "Topic 10\n",
      "['gameplay' 'game' 'ever played' 'juego' 'jogo']\n",
      "\n",
      "Topic 11\n",
      "['unplayable' 'glitches' 'invisible' 'glitch' 'bugged']\n",
      "\n",
      "Topic 12\n",
      "['game' 'juego' 'jogo' 'games' 'gameplay']\n",
      "\n",
      "Topic 13\n",
      "['ultrawide support' 'vsync' 'ultrawide' 'fps' 'widescreen']\n",
      "\n",
      "Topic 14\n",
      "['review' 'reviews' 'criticism' 'gameplay' 'overrated']\n",
      "\n",
      "Topic 15\n",
      "['maidenless' 'nor' 'maiden' 'not' 'maidens']\n",
      "\n",
      "Topic 16\n",
      "['git gud' 'gud' 'game' 'good' 'juego']\n",
      "\n",
      "Topic 17\n",
      "['fun' 'enjoyable' 'enjoying' 'boring' 'enjoyment']\n",
      "\n",
      "Topic 18\n",
      "['finger' 'hole' 'fingers' 'try' 'screw']\n",
      "\n",
      "Topic 19\n",
      "['difficult' 'hardest' 'hard' 'tough' 'harder']\n",
      "\n"
     ]
    }
   ],
   "source": [
    "topic_words, topic_scores, topic_nums = model.get_topics(reduced=reduced)\n",
    "for words, scores, num in zip(topic_words, topic_scores, topic_nums):\n",
    "    print(f\"Topic {num}\\n{words[:5]}\\n\")"
   ]
  },
  {
   "cell_type": "code",
   "execution_count": 14,
   "metadata": {},
   "outputs": [
    {
     "name": "stdout",
     "output_type": "stream",
     "text": [
      "Document: 20708, Score: 0.6267\n",
      "-----------------------------\n",
      "rannussy gave me thy scarlet rot\n",
      "\n",
      "Document: 44665, Score: 0.6241\n",
      "-----------------------------\n",
      "Хуйня для нубов, марио и то пизже.\n",
      "\n",
      "Document: 49271, Score: 0.6233\n",
      "-----------------------------\n",
      "Bad gfame no plaqy MIYAZAKI\n",
      "\n",
      "Document: 19702, Score: 0.6113\n",
      "-----------------------------\n",
      "12 Malenias out of 10 blades of Miquella.\n",
      "\n",
      "Document: 36943, Score: 0.6081\n",
      "-----------------------------\n",
      "Fuck you miyazaki, ya cunt!!!!!!!!\n",
      "\n"
     ]
    }
   ],
   "source": [
    "topic_num = 4\n",
    "num_docs = 5\n",
    "\n",
    "documents, document_scores, document_ids = model.search_documents_by_topic(topic_num, num_docs, reduced=reduced)\n",
    "for doc, score, id in zip(documents, document_scores, document_ids):\n",
    "    print(f\"Document: {id}, Score: {score:.4f}\")\n",
    "    print(\"-----------------------------\")\n",
    "    print(doc + \"\\n\")"
   ]
  },
  {
   "attachments": {},
   "cell_type": "markdown",
   "metadata": {},
   "source": [
    "# Comparing over classes"
   ]
  },
  {
   "cell_type": "code",
   "execution_count": 15,
   "metadata": {},
   "outputs": [],
   "source": [
    "df = pd.read_csv(\"er-reviews.csv\")"
   ]
  },
  {
   "cell_type": "code",
   "execution_count": 16,
   "metadata": {},
   "outputs": [],
   "source": [
    "# topic_sizes_by_class(model, df.voted_up, reduced=reduced)"
   ]
  },
  {
   "cell_type": "code",
   "execution_count": 17,
   "metadata": {},
   "outputs": [
    {
     "data": {
      "text/plain": [
       "Text(0.5, 1.0, 'Topic sizes by class')"
      ]
     },
     "execution_count": 17,
     "metadata": {},
     "output_type": "execute_result"
    },
    {
     "data": {
      "image/png": "[encoded data removed]",
      "text/plain": [
       "<Figure size 640x480 with 1 Axes>"
      ]
     },
     "metadata": {},
     "output_type": "display_data"
    }
   ],
   "source": [
    "import matplotlib.pyplot as plt\n",
    "size_by_class = topic_sizes_by_class(model, df.voted_up, reduced=reduced)\n",
    "x = size_by_class.xs((1), level=\"class\").tolist()\n",
    "y = size_by_class.xs((0), level=\"class\").tolist()\n",
    "l = range(0, len(x))\n",
    "plt.bar(l, x, color=\"pink\", label=\"Voted up\")\n",
    "plt.bar(l, y, bottom=x, color=\"lightblue\", label=\"Voted down\")\n",
    "plt.legend()\n",
    "plt.xlabel(\"Topic\")\n",
    "plt.xticks(range(0,20))\n",
    "plt.title(\"Topic sizes by class\")"
   ]
  },
  {
   "cell_type": "code",
   "execution_count": 18,
   "metadata": {},
   "outputs": [
    {
     "data": {
      "text/plain": [
       "topic\n",
       "1    -6315.0\n",
       "6    -1343.0\n",
       "9    -1061.0\n",
       "13    -933.0\n",
       "11    -739.0\n",
       "14    -307.0\n",
       "0     -149.0\n",
       "19      23.0\n",
       "15     212.0\n",
       "17     227.0\n",
       "12     357.0\n",
       "8      431.0\n",
       "16     505.0\n",
       "18     696.0\n",
       "7      896.0\n",
       "10    1103.0\n",
       "4     1219.0\n",
       "5     1316.0\n",
       "2     1853.0\n",
       "3     1933.0\n",
       "dtype: float64"
      ]
     },
     "execution_count": 18,
     "metadata": {},
     "output_type": "execute_result"
    }
   ],
   "source": [
    "# More negative = larger number of negative reviews in topic\n",
    "topic_sizes_by_class(model, df.voted_up, reduced=reduced).groupby(\"topic\").diff().dropna().sort_values().xs(1, level=\"class\", drop_level=True)\n"
   ]
  },
  {
   "cell_type": "code",
   "execution_count": 19,
   "metadata": {},
   "outputs": [],
   "source": [
    "# topic_num = 1\n",
    "# topic_sizes_by_class(model, df.voted_up, reduced=reduced).xs(topic_num, level=\"topic\", drop_level=False)"
   ]
  },
  {
   "cell_type": "code",
   "execution_count": 20,
   "metadata": {},
   "outputs": [],
   "source": [
    "vector_dictionary = find_new_centers(model, df.voted_up, reduced=reduced)\n",
    "\n",
    "top_vec_negative = vector_dictionary.get(0)\n",
    "top_vec_positive = vector_dictionary.get(1)"
   ]
  },
  {
   "cell_type": "code",
   "execution_count": 21,
   "metadata": {},
   "outputs": [
    {
     "data": {
      "text/plain": [
       "array([0.96210134, 0.9639979 , 0.9539665 , 0.94547856, 0.95064193,\n",
       "       0.86361414, 0.96225953, 0.9626671 , 0.8813095 , 0.9101274 ,\n",
       "       0.9348498 , 0.8746675 , 0.9062441 , 0.9556165 , 0.964859  ,\n",
       "       0.8546722 , 0.90174663, 0.8830295 , 0.9469801 , 0.9695737 ],\n",
       "      dtype=float32)"
      ]
     },
     "execution_count": 21,
     "metadata": {},
     "output_type": "execute_result"
    }
   ],
   "source": [
    "# Similarity between topic vectors between classes\n",
    "np.array([np.inner(x, y) for x,y in zip(top_vec_negative, top_vec_positive)])"
   ]
  },
  {
   "cell_type": "code",
   "execution_count": 22,
   "metadata": {},
   "outputs": [
    {
     "data": {
      "text/plain": [
       "array([15,  5, 11,  8, 17, 16, 12,  9, 10,  3, 18,  4,  2, 13,  0,  6,  7,\n",
       "        1, 14, 19], dtype=int64)"
      ]
     },
     "execution_count": 22,
     "metadata": {},
     "output_type": "execute_result"
    }
   ],
   "source": [
    "# Similarity between topic vectors between classes (first in list = most dissimilar)\n",
    "np.array([np.inner(x, y) for x,y in zip(top_vec_negative, top_vec_positive)]).argsort()"
   ]
  },
  {
   "attachments": {},
   "cell_type": "markdown",
   "metadata": {},
   "source": [
    "#### Original and re-calculated topic vectors\n",
    "\n",
    "Displays the top *N* words most similar to the original topic vectors as well as the re-calculated topic vectors for positive and negative reviews. "
   ]
  },
  {
   "cell_type": "code",
   "execution_count": 31,
   "metadata": {},
   "outputs": [
    {
     "data": {
      "text/plain": [
       "(20, 512)"
      ]
     },
     "execution_count": 31,
     "metadata": {},
     "output_type": "execute_result"
    }
   ],
   "source": [
    "top_vec_negative.shape"
   ]
  },
  {
   "cell_type": "code",
   "execution_count": 32,
   "metadata": {},
   "outputs": [
    {
     "data": {
      "text/plain": [
       "array([[-0.05917594, -0.0043406 , -0.00857279, ..., -0.01464983,\n",
       "         0.0311786 ,  0.03682232],\n",
       "       [-0.00909148,  0.0070102 , -0.01804753, ..., -0.04014755,\n",
       "         0.00314289,  0.00054873],\n",
       "       [-0.01137928, -0.01709233,  0.07103041, ..., -0.0804855 ,\n",
       "         0.00295859,  0.01832342],\n",
       "       ...,\n",
       "       [-0.01564791, -0.00376435,  0.01309484, ...,  0.00996506,\n",
       "        -0.0167313 , -0.02210349],\n",
       "       [ 0.02390127, -0.02098668,  0.01827656, ..., -0.01605559,\n",
       "         0.00313891,  0.01671798],\n",
       "       [ 0.00296467,  0.07163057,  0.0451609 , ..., -0.04106568,\n",
       "         0.12270503, -0.04718956]], dtype=float32)"
      ]
     },
     "execution_count": 32,
     "metadata": {},
     "output_type": "execute_result"
    }
   ],
   "source": [
    "model.topic_vectors"
   ]
  },
  {
   "cell_type": "code",
   "execution_count": 33,
   "metadata": {},
   "outputs": [
    {
     "name": "stdout",
     "output_type": "stream",
     "text": [
      "Topic: 0\n",
      "Original: ['dark souls' 'soulsborne' 'darksouls' 'bloodborne' 'soulsbourne']\n",
      "Negative: ['dark souls' 'soulsborne' 'darksouls' 'bloodborne' 'soulsbourne']\n",
      "Positive: ['dark souls' 'soulsborne' 'darksouls' 'bloodborne' 'soulsbourne']\n",
      "\n",
      "Topic: 1\n",
      "Original: ['fps' 'gameplay' 'unplayable' 'vsync' 'laggy']\n",
      "Negative: ['fps' 'gameplay' 'unplayable' 'vsync' 'laggy']\n",
      "Positive: ['fps' 'gameplay' 'framerate' 'performance issues' 'vsync']\n",
      "\n",
      "Topic: 2\n",
      "Original: ['ever played' 'gameplay' 'git gud' 'game' 'juego']\n",
      "Negative: ['gameplay' 'git gud' 'ever played' 'game' 'juego']\n",
      "Positive: ['ever played' 'gameplay' 'game' 'juego' 'jogo']\n",
      "\n",
      "Topic: 3\n",
      "Original: ['meh' 'blah' 'botw' 'eh' 'heck']\n",
      "Negative: ['meh' 'shit' 'blah' 'fucking' 'botw']\n",
      "Positive: ['meh' 'blah' 'eh' 'heck' 'botw']\n",
      "\n",
      "Topic: 4\n",
      "Original: ['malenia fuck' 'fuck malenia' 'malenia blade' 'meh' 'greatsword']\n",
      "Negative: ['bruh' 'lmao' 'malenia fuck' 'goddamn' 'fuck']\n",
      "Positive: ['malenia fuck' 'meh' 'fuck malenia' 'greatsword' 'lmao']\n",
      "\n",
      "Topic: 5\n",
      "Original: ['good' 'gud' 'excellent' 'decent' 'nice']\n",
      "Negative: ['bad' 'terrible' 'badly' 'awful' 'shitty']\n",
      "Positive: ['good' 'excellent' 'gud' 'nice' 'decent']\n",
      "\n",
      "Topic: 6\n",
      "Original: ['multiplayer' 'mmo' 'git gud' 'matchmaking' 'singleplayer']\n",
      "Negative: ['multiplayer' 'mmo' 'git gud' 'matchmaking' 'unplayable']\n",
      "Positive: ['multiplayer' 'mmo' 'git gud' 'singleplayer' 'gameplay']\n",
      "\n",
      "Topic: 7\n",
      "Original: ['elden ring' 'eldenring' 'ring' 'rings' 'elden']\n",
      "Negative: ['elden ring' 'eldenring' 'ring' 'elden' 'rings']\n",
      "Positive: ['elden ring' 'eldenring' 'ring' 'rings' 'elden']\n",
      "\n",
      "Topic: 8\n",
      "Original: ['dying' 'dies' 'dead' 'died' 'death']\n",
      "Negative: ['crashed' 'crashes' 'crashing' 'crash' 'ruined']\n",
      "Positive: ['dying' 'dies' 'dead' 'died' 'death']\n",
      "\n",
      "Topic: 9\n",
      "Original: ['refunded' 'refund' 'refunding' 'replayable' 'unplayable']\n",
      "Negative: ['refunded' 'refunding' 'refund' 'unplayable' 'replayable']\n",
      "Positive: ['refunded' 'ever played' 'refunding' 'refund' 'dlc']\n",
      "\n",
      "Topic: 10\n",
      "Original: ['gameplay' 'game' 'ever played' 'juego' 'jogo']\n",
      "Negative: ['gameplay' 'ever played' 'git gud' 'game' 'playable']\n",
      "Positive: ['ever played' 'gameplay' 'game' 'best' 'greatest']\n",
      "\n",
      "Topic: 11\n",
      "Original: ['unplayable' 'glitches' 'invisible' 'glitch' 'bugged']\n",
      "Negative: ['unplayable' 'glitches' 'glitch' 'bugged' 'git gud']\n",
      "Positive: ['git gud' 'boss fights' 'melee' 'bossfight' 'kills']\n",
      "\n",
      "Topic: 12\n",
      "Original: ['game' 'juego' 'jogo' 'games' 'gameplay']\n",
      "Negative: ['game' 'juego' 'jogo' 'gameplay' 'games']\n",
      "Positive: ['game' 'juego' 'jogo' 'games' 'gameplay']\n",
      "\n",
      "Topic: 13\n",
      "Original: ['ultrawide support' 'vsync' 'ultrawide' 'fps' 'widescreen']\n",
      "Negative: ['ultrawide support' 'vsync' 'ultrawide' 'fps' 'widescreen']\n",
      "Positive: ['ultrawide support' 'vsync' 'fps' 'ultrawide' 'framerate']\n",
      "\n",
      "Topic: 14\n",
      "Original: ['review' 'reviews' 'criticism' 'gameplay' 'overrated']\n",
      "Negative: ['reviews' 'review' 'gameplay' 'criticism' 'git gud']\n",
      "Positive: ['review' 'reviews' 'criticism' 'gameplay' 'reviewers']\n",
      "\n",
      "Topic: 15\n",
      "Original: ['maidenless' 'nor' 'maiden' 'not' 'maidens']\n",
      "Negative: ['not' 'nor' 'не' 'non' 'no']\n",
      "Positive: ['maidenless' 'nor' 'maiden' 'maidens' 'aimlessly']\n",
      "\n",
      "Topic: 16\n",
      "Original: ['git gud' 'gud' 'game' 'good' 'juego']\n",
      "Negative: ['git gud' 'bad' 'game' 'gameplay' 'badly']\n",
      "Positive: ['git gud' 'gud' 'good' 'game' 'juego']\n",
      "\n",
      "Topic: 17\n",
      "Original: ['fun' 'enjoyable' 'enjoying' 'boring' 'enjoyment']\n",
      "Negative: ['boring' 'bored' 'unenjoyable' 'fun' 'enjoyable']\n",
      "Positive: ['fun' 'enjoyable' 'enjoying' 'enjoyment' 'enjoys']\n",
      "\n",
      "Topic: 18\n",
      "Original: ['finger' 'hole' 'fingers' 'try' 'screw']\n",
      "Negative: ['finger' 'fingers' 'hole' 'thumbs' 'screw']\n",
      "Positive: ['finger' 'hole' 'fingers' 'try' 'screw']\n",
      "\n",
      "Topic: 19\n",
      "Original: ['difficult' 'hardest' 'hard' 'tough' 'harder']\n",
      "Negative: ['difficult' 'hardest' 'hard' 'tough' 'difficulty']\n",
      "Positive: ['difficult' 'hardest' 'hard' 'tough' 'harder']\n",
      "\n"
     ]
    }
   ],
   "source": [
    "num_words = 5\n",
    "for top, (all, neg, pos) in enumerate(zip(model.topic_vectors_reduced, top_vec_negative, top_vec_positive)):\n",
    "    aWords, aScores = model.search_words_by_vector(all, num_words)\n",
    "    nWords, nScores = model.search_words_by_vector(neg, num_words)\n",
    "    pWords, pScores = model.search_words_by_vector(pos, num_words)\n",
    "    print(f\"Topic: {top}\")\n",
    "    print(f\"Original: {aWords}\")\n",
    "    print(f\"Negative: {nWords}\")\n",
    "    print(f\"Positive: {pWords}\")\n",
    "    print()"
   ]
  },
  {
   "attachments": {},
   "cell_type": "markdown",
   "metadata": {},
   "source": [
    "#### Difference between original and re-calculated topic vectors\n",
    "\n",
    "Searches for and displays words similar to the *difference* between the original topic vectors and re-calculated positive and negative topic vectors."
   ]
  },
  {
   "cell_type": "code",
   "execution_count": 34,
   "metadata": {},
   "outputs": [
    {
     "name": "stdout",
     "output_type": "stream",
     "text": [
      "Topic: 0\n",
      "Original:          ['dark souls' 'soulsborne' 'darksouls' 'bloodborne' 'soulsbourne']\n",
      "Original-Positive: ['negatives' 'sucks' 'complaints' 'worst' 'shitty']\n",
      "Original-Negative: ['soulsborne' 'dark souls' 'soulsbourne' 'souls' 'darksouls']\n",
      "Negative-Positive: ['negatives' 'complaints' 'worst' 'sucks' 'negative']\n",
      "Positive-Negative: ['soulsborne' 'dark souls' 'soulsbourne' 'souls' 'darksouls']\n",
      "\n",
      "Topic: 1\n",
      "Original:          ['fps' 'gameplay' 'unplayable' 'vsync' 'laggy']\n",
      "Original-Positive: ['unplayable' 'couldnt' 'gamepad' 'cant' 'cannot']\n",
      "Original-Negative: ['respawn' 'screwed' 'recover' 'reset' 'replay']\n",
      "Negative-Positive: ['pc port' 'gamepad' 'couldnt' 'unplayable' 'cant']\n",
      "Positive-Negative: ['performance' 'phenomenal' 'outstanding' 'spectacular'\n",
      " 'performance issues']\n",
      "\n",
      "Topic: 2\n",
      "Original:          ['ever played' 'gameplay' 'git gud' 'game' 'juego']\n",
      "Original-Positive: ['worst' 'shitty' 'bad' 'worse' 'sucks']\n",
      "Original-Negative: ['greatest' 'best' 'magnificent' 'superb' 'amazing']\n",
      "Negative-Positive: ['shitty' 'ruin' 'sucks' 'ruins' 'ruining']\n",
      "Positive-Negative: ['greatest' 'magnificent' 'amazing' 'amazingly' 'incredible']\n",
      "\n",
      "Topic: 3\n",
      "Original:          ['meh' 'blah' 'botw' 'eh' 'heck']\n",
      "Original-Positive: ['rubbish' 'garbage' 'shitty' 'trash' 'awful']\n",
      "Original-Negative: ['sure' 'yeah' 'yes' 'yea' 'yep']\n",
      "Negative-Positive: ['garbage' 'rubbish' 'trash' 'shitty' 'mess']\n",
      "Positive-Negative: ['sure' 'yeah' 'yes' 'yea' 'yep']\n",
      "\n",
      "Topic: 4\n",
      "Original:          ['malenia fuck' 'fuck malenia' 'malenia blade' 'meh' 'greatsword']\n",
      "Original-Positive: ['malenia fuck' 'malenia blade' 'fuck malenia' 'melina' 'unplayable']\n",
      "Original-Negative: ['melina' 'miyazaki' 'miquella am' 'malenia blade' 'hug']\n",
      "Negative-Positive: ['garbage' 'unplayable' 'shitty' 'rubbish' 'lacks']\n",
      "Positive-Negative: ['hug' 'miquella am' 'precious' 'receive' 'grace']\n",
      "\n",
      "Topic: 5\n",
      "Original:          ['good' 'gud' 'excellent' 'decent' 'nice']\n",
      "Original-Positive: ['bad' 'worse' 'worst' 'badly' 'terrible']\n",
      "Original-Negative: ['nice' 'sure' 'great' 'excellent' 'awesome']\n",
      "Negative-Positive: ['worst' 'worse' 'ruin' 'ruining' 'ruins']\n",
      "Positive-Negative: ['nice' 'awesome' 'sure' 'enjoyed' 'great']\n",
      "\n",
      "Topic: 6\n",
      "Original:          ['multiplayer' 'mmo' 'git gud' 'matchmaking' 'singleplayer']\n",
      "Original-Positive: ['disconnects' 'disconnections' 'disconnecting' 'lag' 'lags']\n",
      "Original-Negative: ['pvp' 'pve' 'beast' 'superb' 'exceptional']\n",
      "Negative-Positive: ['disconnections' 'disconnects' 'disconnecting' 'lags' 'lag']\n",
      "Positive-Negative: ['magnificent' 'amazingly' 'amazing' 'breathtaking' 'incredible']\n",
      "\n",
      "Topic: 7\n",
      "Original:          ['elden ring' 'eldenring' 'ring' 'rings' 'elden']\n",
      "Original-Positive: ['clinton' 'stuttering' 'retarded' 'mess' 'buggy']\n",
      "Original-Negative: ['rings' 'ring' 'elden ring' 'eldenring' 'award']\n",
      "Negative-Positive: ['unplayable' 'laggy' 'frustrating' 'horribly' 'frustrated']\n",
      "Positive-Negative: ['elden ring' 'rings' 'ring' 'eldenring' 'award']\n",
      "\n",
      "Topic: 8\n",
      "Original:          ['dying' 'dies' 'dead' 'died' 'death']\n",
      "Original-Positive: ['crashes' 'inconsistent' 'unplayable' 'crash' 'laggy']\n",
      "Original-Negative: ['death' 'dies' 'die' 'living' 'dying']\n",
      "Negative-Positive: ['laggy' 'crashes' 'performance issues' 'buggy' 'lagging']\n",
      "Positive-Negative: ['death' 'living' 'die' 'dies' 'lived']\n",
      "\n",
      "Topic: 9\n",
      "Original:          ['refunded' 'refund' 'refunding' 'replayable' 'unplayable']\n",
      "Original-Positive: ['refund' 'refunding' 'refunded' 'feedback' 'returning']\n",
      "Original-Negative: ['refund' 'refunding' 'refunded' 'returned' 'return']\n",
      "Negative-Positive: ['performance issues' 'refund' 'unresponsive' 'unplayable' 'refunding']\n",
      "Positive-Negative: ['buy' 'bought' 'become' 'purchase' 'buying']\n",
      "\n",
      "Topic: 10\n",
      "Original:          ['gameplay' 'game' 'ever played' 'juego' 'jogo']\n",
      "Original-Positive: ['interesting' 'phenomenal' 'awesome' 'stunning' 'fascinating']\n",
      "Original-Negative: ['wonderful' 'awesome' 'amazing' 'magnificent' 'fantastic']\n",
      "Negative-Positive: ['frustrated' 'frustrating' 'worse' 'terrible' 'underwhelming']\n",
      "Positive-Negative: ['favorite' 'best' 'favourite' 'greatest' 'forever']\n",
      "\n",
      "Topic: 11\n",
      "Original:          ['unplayable' 'glitches' 'invisible' 'glitch' 'bugged']\n",
      "Original-Positive: ['invisible' 'visible' 'unplayable' 'unoptimized' 'performance issues']\n",
      "Original-Negative: ['invisible' 'visible' 'vision' 'sight' 'hidden']\n",
      "Negative-Positive: ['unplayable' 'performance issues' 'unoptimized' 'laggy' 'optimised']\n",
      "Positive-Negative: ['stab' 'killing' 'kill' 'aggro' 'hunt']\n",
      "\n",
      "Topic: 12\n",
      "Original:          ['game' 'juego' 'jogo' 'games' 'gameplay']\n",
      "Original-Positive: ['shitty' 'garbage' 'crap' 'suck' 'sucks']\n",
      "Original-Negative: ['year' 'years' 'decade' 'decades' 'term']\n",
      "Negative-Positive: ['shitty' 'sucks' 'garbage' 'suck' 'crap']\n",
      "Positive-Negative: ['year' 'years' 'decade' 'decades' 'present']\n",
      "\n",
      "Topic: 13\n",
      "Original:          ['ultrawide support' 'vsync' 'ultrawide' 'fps' 'widescreen']\n",
      "Original-Positive: ['nope' 'unacceptable' 'no' 'non' 'ultrawide support']\n",
      "Original-Negative: ['ultrawide support' 'ultrawide' 'widescreen' 'wide' 'expansive']\n",
      "Negative-Positive: ['nope' 'unacceptable' 'no' 'disabled' 'non']\n",
      "Positive-Negative: ['geforce' 'gpu' 'shader' 'nvidia' 'graphics']\n",
      "\n",
      "Topic: 14\n",
      "Original:          ['review' 'reviews' 'criticism' 'gameplay' 'overrated']\n",
      "Original-Positive: ['dislike' 'sucks' 'shitty' 'negatives' 'negative']\n",
      "Original-Negative: ['review' 'rated' 'praise' 'consider' 'deserves']\n",
      "Negative-Positive: ['unplayable' 'laggy' 'fps' 'disabled' 'vsync']\n",
      "Positive-Negative: ['eldenring' 'consider' 'considering' 'praise' 'elden ring']\n",
      "\n",
      "Topic: 15\n",
      "Original:          ['maidenless' 'nor' 'maiden' 'not' 'maidens']\n",
      "Original-Positive: ['no' 'nope' 'nah' 'non' 'не']\n",
      "Original-Negative: ['maidens' 'maiden' 'maliketh' 'maidenless' 'mimic']\n",
      "Negative-Positive: ['not' 'не' 'no' 'non' 'doesnt']\n",
      "Positive-Negative: ['maidens' 'maiden' 'maliketh' 'maidenless' 'mimic']\n",
      "\n",
      "Topic: 16\n",
      "Original:          ['git gud' 'gud' 'game' 'good' 'juego']\n",
      "Original-Positive: ['worst' 'worse' 'ruins' 'disaster' 'failure']\n",
      "Original-Negative: ['enjoyed' 'enjoys' 'enjoy' 'enjoying' 'enjoyment']\n",
      "Negative-Positive: ['worst' 'ruins' 'ruin' 'disaster' 'worse']\n",
      "Positive-Negative: ['enjoyed' 'enjoys' 'enjoy' 'enjoying' 'enjoyment']\n",
      "\n",
      "Topic: 17\n",
      "Original:          ['fun' 'enjoyable' 'enjoying' 'boring' 'enjoyment']\n",
      "Original-Positive: ['boring' 'uninteresting' 'unnecessarily' 'unnecessary' 'lack']\n",
      "Original-Negative: ['enjoys' 'joy' 'enjoying' 'enjoyment' 'pleasure']\n",
      "Negative-Positive: ['lack' 'lacks' 'unnecessary' 'unbalanced' 'unnecessarily']\n",
      "Positive-Negative: ['joy' 'enjoys' 'enjoying' 'enjoyment' 'happy']\n",
      "\n",
      "Topic: 18\n",
      "Original:          ['finger' 'hole' 'fingers' 'try' 'screw']\n",
      "Original-Positive: ['aimlessly' 'arent' 'needlessly' 'barely' 'hardly']\n",
      "Original-Negative: ['seek' 'find' 'finding' 'search' 'discover']\n",
      "Negative-Positive: ['cannot' 'couldnt' 'cant' 'couldn' 'hardly']\n",
      "Positive-Negative: ['seek' 'find' 'finding' 'search' 'exploring']\n",
      "\n",
      "Topic: 19\n",
      "Original:          ['difficult' 'hardest' 'hard' 'tough' 'harder']\n",
      "Original-Positive: ['lacking' 'lack' 'lacks' 'unnecessarily' 'missing']\n",
      "Original-Negative: ['solely' 'simply' 'merely' 'simple' 'just']\n",
      "Negative-Positive: ['lacks' 'lack' 'lacking' 'unnecessary' 'missing']\n",
      "Positive-Negative: ['strongest' 'best' 'rewarding' 'enjoyable' 'accomplishment']\n",
      "\n"
     ]
    }
   ],
   "source": [
    "num_words = 5\n",
    "for top, (all, neg, pos) in enumerate(zip(model.topic_vectors_reduced, top_vec_negative, top_vec_positive)):\n",
    "\n",
    "    O_words, _ = model.search_words_by_vector(all, num_words)\n",
    "    OP_words, _ = model.search_words_by_vector(all - pos, num_words)\n",
    "    ON_words, _ = model.search_words_by_vector(all - neg, num_words)\n",
    "    PN_words, _ = model.search_words_by_vector(pos - neg, num_words)\n",
    "    NP_words, _ = model.search_words_by_vector(neg - pos, num_words)\n",
    "\n",
    "    print(f\"Topic: {top}\")\n",
    "    print(f\"Original:          {O_words}\")\n",
    "    print(f\"Original-Positive: {OP_words}\")\n",
    "    print(f\"Original-Negative: {ON_words}\")\n",
    "    print(f\"Negative-Positive: {NP_words}\")\n",
    "    print(f\"Positive-Negative: {PN_words}\")\n",
    "    print()\n"
   ]
  },
  {
   "attachments": {},
   "cell_type": "markdown",
   "metadata": {},
   "source": [
    "#### Documents from differences in topic vectors\n",
    "\n",
    "It appears that Negative-Positive consistently returns documents with negative sentiment, and vice versa for Positive-Negative. The same does not seem to be true in every case for Original-Positive or Original-Negative (topic 6 for example).\n",
    "\n",
    "When there is a difference in the representative word vectors for original, positive, and negative, the returned documents seem to consistently reflect that. Take for example topic 5, for which Original returns words related to the online experience; Positive returns praise words; and Negative returns denouncements.\n",
    "\n",
    "Subtracting away the re-calculated positive topic vector seems to consistently result in more negative reviews being returned. This seems doubly true for Negative-Positive, and doubly vice versa for Positive-Negative."
   ]
  },
  {
   "cell_type": "code",
   "execution_count": 35,
   "metadata": {},
   "outputs": [
    {
     "name": "stdout",
     "output_type": "stream",
     "text": [
      "Original:\n",
      "['rly good ' 'Super gut']\n",
      "\n",
      "Original-Positive:\n",
      "['Performance is so bad, unplayable.' 'bad performance = bad game']\n",
      "\n",
      "Original-Negative:\n",
      "['yeah good!' 'very good very nice']\n",
      "\n",
      "Negative-Positive:\n",
      "['Bad port with terrible performance.' 'Horrible performance issues.']\n",
      "\n",
      "Positive-Negative:\n",
      "['mantep ' '非常棒']\n",
      "\n",
      "\n"
     ]
    }
   ],
   "source": [
    "topic = 5\n",
    "num_docs = 2\n",
    "for top, (all, neg, pos) in enumerate(zip(model.topic_vectors_reduced, top_vec_negative, top_vec_positive)):\n",
    "    if top == topic:\n",
    "        O_words, _, _ = model.search_documents_by_vector(all, num_docs)\n",
    "        OP_words, _, _ = model.search_documents_by_vector(all - pos, num_docs)\n",
    "        ON_words, _, _ = model.search_documents_by_vector(all - neg, num_docs)\n",
    "        PN_words, _, _ = model.search_documents_by_vector(pos - neg, num_docs)\n",
    "        NP_words, _, _ = model.search_documents_by_vector(neg - pos, num_docs)\n",
    "\n",
    "        print(f\"Original:\\n{O_words}\\n\")\n",
    "        print(f\"Original-Positive:\\n{OP_words}\\n\")\n",
    "        print(f\"Original-Negative:\\n{ON_words}\\n\")\n",
    "        print(f\"Negative-Positive:\\n{NP_words}\\n\")\n",
    "        print(f\"Positive-Negative:\\n{PN_words}\\n\")\n",
    "        print()\n"
   ]
  },
  {
   "attachments": {},
   "cell_type": "markdown",
   "metadata": {},
   "source": [
    "#### Document by topic vector difference"
   ]
  },
  {
   "cell_type": "code",
   "execution_count": 26,
   "metadata": {},
   "outputs": [
    {
     "name": "stdout",
     "output_type": "stream",
     "text": [
      "          Original: ['GREAT GAME' 'Great game' 'great game']\n",
      "\n",
      "Positive-Negative : ['I would write a more indepth review, but im too busy playing Elden Ring.'\n",
      " 'YOU ARE READING REVIEWS WHEN YOU COULD BE PLAYING ELDEN RING WHY BRO'\n",
      " \"I would write a more in-depth review, but I'm too busy playing Elden Ring.\"]\n",
      "\n",
      "Negative-Positive : [\"Constant fps drops and stuttering, invisible enemies due to rendering bugs and overall unplayable. Fix the game edit: Almost been a month since release, game is so bugged i can't play it still. no updates on whats going on with it and i've spent over 2 hours trying to fix the damn bugs meaning i now can't refund nor can i even play the game \"\n",
      " 'Game drops to 1fps every 30 seconds for me. Tried every fix online, nothing helped. Until a patch comes out that fixes the PC issues this game will remain refunded for me.'\n",
      " 'Unplayable. Stuttering is bad like players have said, which actually got WORSE when I turned down graphics. Invisible enemies. All of them. I saw others had this issue as well, but no enemies can be seen accept at very specific angles, like an upward angle. Unplayable. I tried many fixes but nothing works. This game is currently BROKEN on PC. Stay away until fixed.']\n",
      "\n"
     ]
    }
   ],
   "source": [
    "num_docs = 3\n",
    "topic = 14\n",
    "\n",
    "for top, (all, neg, pos) in enumerate(zip(model.topic_vectors, top_vec_negative, top_vec_positive)):\n",
    "    if top == topic:\n",
    "        original = all\n",
    "        positive_negative = pos - neg\n",
    "        negative_positive = neg - pos\n",
    "\n",
    "        orig, _, _ = model.search_documents_by_vector(original, num_docs)\n",
    "        posneg, _, _ = model.search_documents_by_vector(positive_negative, num_docs)\n",
    "        negpos, _, _ = model.search_documents_by_vector(negative_positive, num_docs)\n",
    "        print(f\"          Original: {orig}\\n\")\n",
    "        print(f\"Positive-Negative : {posneg}\\n\")\n",
    "        print(f\"Negative-Positive : {negpos}\\n\")\n"
   ]
  },
  {
   "cell_type": "code",
   "execution_count": 27,
   "metadata": {},
   "outputs": [
    {
     "data": {
      "text/plain": [
       "array([0.67066616, 0.6164254 , 0.5791541 ], dtype=float32)"
      ]
     },
     "execution_count": 27,
     "metadata": {},
     "output_type": "execute_result"
    }
   ],
   "source": [
    "# Intra-topic average similarity\n",
    "np.array([np.mean([np.inner(doc, model.topic_vectors[topic]) for doc in model.document_vectors[model.doc_top==topic]]) for topic in range(0, num_topics)])"
   ]
  },
  {
   "cell_type": "code",
   "execution_count": 28,
   "metadata": {},
   "outputs": [
    {
     "data": {
      "text/plain": [
       "array([0.6753856 , 0.6305023 , 0.58394027, 0.60104275, 0.3994374 ,\n",
       "       0.75726867, 0.59837514, 0.64872974, 0.44734168, 0.5659002 ,\n",
       "       0.74319506, 0.5112598 , 0.66213065, 0.6585727 , 0.6181389 ,\n",
       "       0.5608183 , 0.79413384, 0.5968408 , 0.7860739 , 0.647532  ],\n",
       "      dtype=float32)"
      ]
     },
     "execution_count": 28,
     "metadata": {},
     "output_type": "execute_result"
    }
   ],
   "source": [
    "# Intra-topic average similarity (reduced)\n",
    "num_topics_reduced = len(model.topic_vectors_reduced)\n",
    "np.array([np.mean([np.inner(doc, model.topic_vectors_reduced[topic]) for doc in model.document_vectors[model.doc_top_reduced==topic]]) for topic in range(0, num_topics_reduced)])"
   ]
  }
 ],
 "metadata": {
  "kernelspec": {
   "display_name": "Python 3",
   "language": "python",
   "name": "python3"
  },
  "language_info": {
   "codemirror_mode": {
    "name": "ipython",
    "version": 3
   },
   "file_extension": ".py",
   "mimetype": "text/x-python",
   "name": "python",
   "nbconvert_exporter": "python",
   "pygments_lexer": "ipython3",
   "version": "3.10.7"
  },
  "orig_nbformat": 4,
  "vscode": {
   "interpreter": {
    "hash": "857cdad76657927eb74ed29a786dd3d054a24015882f359a4354133a429953a1"
   }
  }
 },
 "nbformat": 4,
 "nbformat_minor": 2
}
