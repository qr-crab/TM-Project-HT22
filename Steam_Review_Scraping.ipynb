{
  "cells": [
    {
      "cell_type": "markdown",
      "metadata": {
        "id": "9NjUmS7Hp-F8"
      },
      "source": [
        "# Functions to scrape data\n",
        "\n",
        "Code from this fantastic article by Andrew Muller https://andrew-muller.medium.com/scraping-steam-user-reviews-9a43f9e38c92."
      ]
    },
    {
      "cell_type": "code",
      "execution_count": 5,
      "metadata": {
        "id": "XSQJlQ6pp3lg"
      },
      "outputs": [],
      "source": [
        "import requests\n",
        "r = requests.get(url=\"https://store.steampowered.com/appreviews/1245620?json=1\").json()"
      ]
    },
    {
      "cell_type": "code",
      "execution_count": 6,
      "metadata": {
        "id": "ILdrb1UHuiwM"
      },
      "outputs": [],
      "source": [
        "from bs4 import BeautifulSoup\n",
        "def get_app_id(game_name):\n",
        "  response = requests.get(url=f'https://store.steampowered.com/search/?term={game_name}&category1=998', headers={'User-Agent': 'Mozilla/5.0'})\n",
        "  soup = BeautifulSoup(response.text, 'html.parser')\n",
        "  app_id = soup.find(class_='search_result_row')['data-ds-appid']\n",
        "  return app_id\n",
        "\n",
        "def get_reviews(appid, params={'json':1}):\n",
        "  url = 'https://store.steampowered.com/appreviews/'\n",
        "  response = requests.get(url=url+appid, params=params, headers={'User-Agent': 'Mozilla/5.0'})\n",
        "  return response.json()\n",
        "      \n",
        "def get_n_reviews(appid, n=100, review_type=\"all\", filter=\"all\"):\n",
        "  reviews = []\n",
        "  cursor = '*'\n",
        "  params = {\n",
        "          'json' : 1,\n",
        "          'filter' : filter,\n",
        "          'language' : 'english',\n",
        "          'day_range' : 9223372036854775807,\n",
        "          'review_type' : review_type,\n",
        "          'purchase_type' : 'all'\n",
        "          }\n",
        "\n",
        "  while n > 0:\n",
        "      params['cursor'] = cursor.encode()\n",
        "      params['num_per_page'] = min(100, n)\n",
        "      n -= 100\n",
        "\n",
        "      response = get_reviews(appid, params)\n",
        "      cursor = response['cursor']\n",
        "      reviews += response['reviews']\n",
        "\n",
        "      if len(response['reviews']) < 100: break\n",
        "\n",
        "  return reviews"
      ]
    },
    {
      "cell_type": "markdown",
      "metadata": {
        "id": "NBl_C6MExx3G"
      },
      "source": [
        "# Accessing reviews"
      ]
    },
    {
      "cell_type": "code",
      "execution_count": 13,
      "metadata": {
        "id": "Yo6CO09xqScS"
      },
      "outputs": [],
      "source": [
        "import pandas as pd\n",
        "id = get_app_id(\"elden ring\")\n",
        "cols = [\"review\", \"voted_up\", \"received_for_free\", \"timestamp_created\", \"timestamp_updated\"]\n",
        "rev = pd.DataFrame(get_n_reviews(id, n=100000, review_type=\"all\"))\n",
        "# pos = pd.DataFrame(get_n_reviews(id, n=50000, review_type=\"positive\"))[cols]\n",
        "# neg = pd.DataFrame(get_n_reviews(id, n=50000, review_type=\"negative\", filter=\"recent\"))[cols]"
      ]
    },
    {
      "cell_type": "code",
      "execution_count": 8,
      "metadata": {
        "colab": {
          "base_uri": "https://localhost:8080/"
        },
        "id": "-J6ESKNCvXkm",
        "outputId": "f0823456-89e6-4298-f22c-7d09cbbf33f9"
      },
      "outputs": [
        {
          "name": "stdout",
          "output_type": "stream",
          "text": [
            "(50000, 5)\n",
            "(25240, 5)\n"
          ]
        }
      ],
      "source": [
        "print(pos.shape)\n",
        "print(neg.shape)"
      ]
    },
    {
      "cell_type": "markdown",
      "metadata": {
        "id": "zfiHFcHfzdNu"
      },
      "source": [
        "# Saving reviews"
      ]
    },
    {
      "cell_type": "code",
      "execution_count": 14,
      "metadata": {
        "colab": {
          "base_uri": "https://localhost:8080/",
          "height": 17
        },
        "id": "aSAFh-eCwUQd",
        "outputId": "fff3e919-bf65-4ea8-a4d8-0b00d6a8a914"
      },
      "outputs": [],
      "source": [
        "# rev.to_csv(\"er-reviews.csv\", encoding=\"utf-8\", index=False)\n",
        "# pos.to_csv(\"er-pos-ts.csv\", encoding=\"utf-8\", index=False)\n",
        "# neg.to_csv(\"er-neg-ts.csv\", encoding=\"utf-8\", index=False)"
      ]
    }
  ],
  "metadata": {
    "colab": {
      "provenance": []
    },
    "kernelspec": {
      "display_name": "Python 3",
      "language": "python",
      "name": "python3"
    },
    "language_info": {
      "codemirror_mode": {
        "name": "ipython",
        "version": 3
      },
      "file_extension": ".py",
      "mimetype": "text/x-python",
      "name": "python",
      "nbconvert_exporter": "python",
      "pygments_lexer": "ipython3",
      "version": "3.10.7"
    },
    "vscode": {
      "interpreter": {
        "hash": "857cdad76657927eb74ed29a786dd3d054a24015882f359a4354133a429953a1"
      }
    }
  },
  "nbformat": 4,
  "nbformat_minor": 0
}
